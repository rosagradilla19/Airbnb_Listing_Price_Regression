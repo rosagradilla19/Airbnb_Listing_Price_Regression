{
 "cells": [
  {
   "cell_type": "markdown",
   "metadata": {},
   "source": [
    "# Predicting Airbnb Price of listing per Night\n",
    "\n",
    "Since its inception in 2008, Airbnb has disrupted the traditional hospitality industry as more travellers decide to use Airbnb as their primary means of accommodation. Airbnb offers travellers a more unique and personalized way of accommodation and experience\n",
    "\n",
    "This dataset has columns describing:\n",
    "\n",
    "- host id: unique host id\n",
    "- host name: name of host\n",
    "- listing id: unique listing id\n",
    "- listing name: name of listing\n",
    "- latitude\n",
    "- longitude\n",
    "- the neighbourhood: name of neighbourhood\n",
    "- room type\n",
    "- minimum number of nights\n",
    "- number of reviews\n",
    "- last review date\n",
    "- reviews per month \n",
    "- availability_365: number of days in year the listing is available for rent\n",
    "- host listings\n",
    "- city\n",
    "- price: price of listing per night\n",
    "\n",
    "Acknowledgements\n",
    "\n",
    "This dataset is a compilation of multiple datasets found on Inside Airbnb."
   ]
  },
  {
   "cell_type": "code",
   "execution_count": 1,
   "metadata": {},
   "outputs": [],
   "source": [
    "# regular expressions\n",
    "import re \n",
    "\n",
    "# math and data utilities\n",
    "import numpy as np\n",
    "import pandas as pd\n",
    "import scipy.stats as ss\n",
    "import itertools as it\n",
    "\n",
    "# ML and statistics libraries\n",
    "import xgboost as xgb\n",
    "import scipy.stats as stats\n",
    "from scipy.special import boxcox1p\n",
    "import sklearn.preprocessing as pre\n",
    "from sklearn import model_selection\n",
    "from sklearn import metrics\n",
    "from sklearn.pipeline import make_pipeline\n",
    "from sklearn.neighbors import KNeighborsClassifier\n",
    "from sklearn.linear_model import LinearRegression, RidgeCV, LassoCV, ElasticNetCV\n",
    "from sklearn.kernel_ridge import KernelRidge\n",
    "from sklearn import ensemble\n",
    "from sklearn.compose import TransformedTargetRegressor\n",
    "from sklearn.svm import SVC\n",
    "import lightgbm as lgb\n",
    "\n",
    "# visualization libraries\n",
    "import matplotlib.pyplot as plt\n",
    "import matplotlib as mpl\n",
    "import seaborn as sns"
   ]
  },
  {
   "cell_type": "code",
   "execution_count": 114,
   "metadata": {},
   "outputs": [
    {
     "name": "stderr",
     "output_type": "stream",
     "text": [
      "/Users/rosagradilla/anaconda3/lib/python3.7/site-packages/IPython/core/interactiveshell.py:3063: DtypeWarning: Columns (4) have mixed types.Specify dtype option on import or set low_memory=False.\n",
      "  interactivity=interactivity, compiler=compiler, result=result)\n"
     ]
    }
   ],
   "source": [
    "df = pd.read_csv('/Users/rosagradilla/Documents/Projects/data/AB_US_2020.csv')"
   ]
  },
  {
   "cell_type": "code",
   "execution_count": 115,
   "metadata": {},
   "outputs": [
    {
     "data": {
      "text/html": [
       "<div>\n",
       "<style scoped>\n",
       "    .dataframe tbody tr th:only-of-type {\n",
       "        vertical-align: middle;\n",
       "    }\n",
       "\n",
       "    .dataframe tbody tr th {\n",
       "        vertical-align: top;\n",
       "    }\n",
       "\n",
       "    .dataframe thead th {\n",
       "        text-align: right;\n",
       "    }\n",
       "</style>\n",
       "<table border=\"1\" class=\"dataframe\">\n",
       "  <thead>\n",
       "    <tr style=\"text-align: right;\">\n",
       "      <th></th>\n",
       "      <th>id</th>\n",
       "      <th>name</th>\n",
       "      <th>host_id</th>\n",
       "      <th>host_name</th>\n",
       "      <th>neighbourhood_group</th>\n",
       "      <th>neighbourhood</th>\n",
       "      <th>latitude</th>\n",
       "      <th>longitude</th>\n",
       "      <th>room_type</th>\n",
       "      <th>price</th>\n",
       "      <th>minimum_nights</th>\n",
       "      <th>number_of_reviews</th>\n",
       "      <th>last_review</th>\n",
       "      <th>reviews_per_month</th>\n",
       "      <th>calculated_host_listings_count</th>\n",
       "      <th>availability_365</th>\n",
       "      <th>city</th>\n",
       "    </tr>\n",
       "  </thead>\n",
       "  <tbody>\n",
       "    <tr>\n",
       "      <th>0</th>\n",
       "      <td>38585</td>\n",
       "      <td>Charming Victorian home - twin beds + breakfast</td>\n",
       "      <td>165529</td>\n",
       "      <td>Evelyne</td>\n",
       "      <td>NaN</td>\n",
       "      <td>28804</td>\n",
       "      <td>35.65146</td>\n",
       "      <td>-82.62792</td>\n",
       "      <td>Private room</td>\n",
       "      <td>60</td>\n",
       "      <td>1</td>\n",
       "      <td>138</td>\n",
       "      <td>16/02/20</td>\n",
       "      <td>1.14</td>\n",
       "      <td>1</td>\n",
       "      <td>0</td>\n",
       "      <td>Asheville</td>\n",
       "    </tr>\n",
       "    <tr>\n",
       "      <th>1</th>\n",
       "      <td>80905</td>\n",
       "      <td>French Chic Loft</td>\n",
       "      <td>427027</td>\n",
       "      <td>Celeste</td>\n",
       "      <td>NaN</td>\n",
       "      <td>28801</td>\n",
       "      <td>35.59779</td>\n",
       "      <td>-82.55540</td>\n",
       "      <td>Entire home/apt</td>\n",
       "      <td>470</td>\n",
       "      <td>1</td>\n",
       "      <td>114</td>\n",
       "      <td>07/09/20</td>\n",
       "      <td>1.03</td>\n",
       "      <td>11</td>\n",
       "      <td>288</td>\n",
       "      <td>Asheville</td>\n",
       "    </tr>\n",
       "    <tr>\n",
       "      <th>2</th>\n",
       "      <td>108061</td>\n",
       "      <td>Walk to stores/parks/downtown. Fenced yard/Pet...</td>\n",
       "      <td>320564</td>\n",
       "      <td>Lisa</td>\n",
       "      <td>NaN</td>\n",
       "      <td>28801</td>\n",
       "      <td>35.60670</td>\n",
       "      <td>-82.55563</td>\n",
       "      <td>Entire home/apt</td>\n",
       "      <td>75</td>\n",
       "      <td>30</td>\n",
       "      <td>89</td>\n",
       "      <td>30/11/19</td>\n",
       "      <td>0.81</td>\n",
       "      <td>2</td>\n",
       "      <td>298</td>\n",
       "      <td>Asheville</td>\n",
       "    </tr>\n",
       "    <tr>\n",
       "      <th>3</th>\n",
       "      <td>155305</td>\n",
       "      <td>Cottage! BonPaul + Sharky's Hostel</td>\n",
       "      <td>746673</td>\n",
       "      <td>BonPaul</td>\n",
       "      <td>NaN</td>\n",
       "      <td>28806</td>\n",
       "      <td>35.57864</td>\n",
       "      <td>-82.59578</td>\n",
       "      <td>Entire home/apt</td>\n",
       "      <td>90</td>\n",
       "      <td>1</td>\n",
       "      <td>267</td>\n",
       "      <td>22/09/20</td>\n",
       "      <td>2.39</td>\n",
       "      <td>5</td>\n",
       "      <td>0</td>\n",
       "      <td>Asheville</td>\n",
       "    </tr>\n",
       "    <tr>\n",
       "      <th>4</th>\n",
       "      <td>160594</td>\n",
       "      <td>Historic Grove Park</td>\n",
       "      <td>769252</td>\n",
       "      <td>Elizabeth</td>\n",
       "      <td>NaN</td>\n",
       "      <td>28801</td>\n",
       "      <td>35.61442</td>\n",
       "      <td>-82.54127</td>\n",
       "      <td>Private room</td>\n",
       "      <td>125</td>\n",
       "      <td>30</td>\n",
       "      <td>58</td>\n",
       "      <td>19/10/15</td>\n",
       "      <td>0.52</td>\n",
       "      <td>1</td>\n",
       "      <td>0</td>\n",
       "      <td>Asheville</td>\n",
       "    </tr>\n",
       "  </tbody>\n",
       "</table>\n",
       "</div>"
      ],
      "text/plain": [
       "       id                                               name  host_id  \\\n",
       "0   38585    Charming Victorian home - twin beds + breakfast   165529   \n",
       "1   80905                                   French Chic Loft   427027   \n",
       "2  108061  Walk to stores/parks/downtown. Fenced yard/Pet...   320564   \n",
       "3  155305                 Cottage! BonPaul + Sharky's Hostel   746673   \n",
       "4  160594                                Historic Grove Park   769252   \n",
       "\n",
       "   host_name neighbourhood_group neighbourhood  latitude  longitude  \\\n",
       "0    Evelyne                 NaN         28804  35.65146  -82.62792   \n",
       "1    Celeste                 NaN         28801  35.59779  -82.55540   \n",
       "2       Lisa                 NaN         28801  35.60670  -82.55563   \n",
       "3    BonPaul                 NaN         28806  35.57864  -82.59578   \n",
       "4  Elizabeth                 NaN         28801  35.61442  -82.54127   \n",
       "\n",
       "         room_type  price  minimum_nights  number_of_reviews last_review  \\\n",
       "0     Private room     60               1                138    16/02/20   \n",
       "1  Entire home/apt    470               1                114    07/09/20   \n",
       "2  Entire home/apt     75              30                 89    30/11/19   \n",
       "3  Entire home/apt     90               1                267    22/09/20   \n",
       "4     Private room    125              30                 58    19/10/15   \n",
       "\n",
       "   reviews_per_month  calculated_host_listings_count  availability_365  \\\n",
       "0               1.14                               1                 0   \n",
       "1               1.03                              11               288   \n",
       "2               0.81                               2               298   \n",
       "3               2.39                               5                 0   \n",
       "4               0.52                               1                 0   \n",
       "\n",
       "        city  \n",
       "0  Asheville  \n",
       "1  Asheville  \n",
       "2  Asheville  \n",
       "3  Asheville  \n",
       "4  Asheville  "
      ]
     },
     "execution_count": 115,
     "metadata": {},
     "output_type": "execute_result"
    }
   ],
   "source": [
    "df.head()"
   ]
  },
  {
   "cell_type": "code",
   "execution_count": 4,
   "metadata": {},
   "outputs": [
    {
     "data": {
      "text/plain": [
       "(226030, 17)"
      ]
     },
     "metadata": {},
     "output_type": "display_data"
    },
    {
     "name": "stdout",
     "output_type": "stream",
     "text": [
      "<class 'pandas.core.frame.DataFrame'>\n",
      "RangeIndex: 226030 entries, 0 to 226029\n",
      "Data columns (total 17 columns):\n",
      " #   Column                          Non-Null Count   Dtype  \n",
      "---  ------                          --------------   -----  \n",
      " 0   id                              226030 non-null  int64  \n",
      " 1   name                            226002 non-null  object \n",
      " 2   host_id                         226030 non-null  int64  \n",
      " 3   host_name                       225997 non-null  object \n",
      " 4   neighbourhood_group             110185 non-null  object \n",
      " 5   neighbourhood                   226030 non-null  object \n",
      " 6   latitude                        226030 non-null  float64\n",
      " 7   longitude                       226030 non-null  float64\n",
      " 8   room_type                       226030 non-null  object \n",
      " 9   price                           226030 non-null  int64  \n",
      " 10  minimum_nights                  226030 non-null  int64  \n",
      " 11  number_of_reviews               226030 non-null  int64  \n",
      " 12  last_review                     177428 non-null  object \n",
      " 13  reviews_per_month               177428 non-null  float64\n",
      " 14  calculated_host_listings_count  226030 non-null  int64  \n",
      " 15  availability_365                226030 non-null  int64  \n",
      " 16  city                            226030 non-null  object \n",
      "dtypes: float64(3), int64(7), object(7)\n",
      "memory usage: 29.3+ MB\n"
     ]
    },
    {
     "data": {
      "text/plain": [
       "None"
      ]
     },
     "metadata": {},
     "output_type": "display_data"
    }
   ],
   "source": [
    "display(df.shape)\n",
    "display(df.info())"
   ]
  },
  {
   "cell_type": "markdown",
   "metadata": {},
   "source": [
    "This dataset consists of 226,030 observations with 16 features plus our target variable, which we are predicting: <b>price of listing per night</b>"
   ]
  },
  {
   "cell_type": "code",
   "execution_count": 116,
   "metadata": {},
   "outputs": [
    {
     "data": {
      "text/html": [
       "<div>\n",
       "<style scoped>\n",
       "    .dataframe tbody tr th:only-of-type {\n",
       "        vertical-align: middle;\n",
       "    }\n",
       "\n",
       "    .dataframe tbody tr th {\n",
       "        vertical-align: top;\n",
       "    }\n",
       "\n",
       "    .dataframe thead th {\n",
       "        text-align: right;\n",
       "    }\n",
       "</style>\n",
       "<table border=\"1\" class=\"dataframe\">\n",
       "  <thead>\n",
       "    <tr style=\"text-align: right;\">\n",
       "      <th></th>\n",
       "      <th>count</th>\n",
       "      <th>mean</th>\n",
       "      <th>std</th>\n",
       "      <th>min</th>\n",
       "      <th>25%</th>\n",
       "      <th>50%</th>\n",
       "      <th>75%</th>\n",
       "      <th>max</th>\n",
       "    </tr>\n",
       "  </thead>\n",
       "  <tbody>\n",
       "    <tr>\n",
       "      <th>id</th>\n",
       "      <td>226030.0</td>\n",
       "      <td>2.547176e+07</td>\n",
       "      <td>1.317814e+07</td>\n",
       "      <td>109.00000</td>\n",
       "      <td>1.515890e+07</td>\n",
       "      <td>2.590916e+07</td>\n",
       "      <td>3.772624e+07</td>\n",
       "      <td>4.556085e+07</td>\n",
       "    </tr>\n",
       "    <tr>\n",
       "      <th>host_id</th>\n",
       "      <td>226030.0</td>\n",
       "      <td>9.352385e+07</td>\n",
       "      <td>9.827422e+07</td>\n",
       "      <td>23.00000</td>\n",
       "      <td>1.399275e+07</td>\n",
       "      <td>5.138266e+07</td>\n",
       "      <td>1.497179e+08</td>\n",
       "      <td>3.679176e+08</td>\n",
       "    </tr>\n",
       "    <tr>\n",
       "      <th>latitude</th>\n",
       "      <td>226030.0</td>\n",
       "      <td>3.566283e+01</td>\n",
       "      <td>6.849855e+00</td>\n",
       "      <td>18.92099</td>\n",
       "      <td>3.276178e+01</td>\n",
       "      <td>3.726112e+01</td>\n",
       "      <td>4.072404e+01</td>\n",
       "      <td>4.773462e+01</td>\n",
       "    </tr>\n",
       "    <tr>\n",
       "      <th>longitude</th>\n",
       "      <td>226030.0</td>\n",
       "      <td>-1.032207e+02</td>\n",
       "      <td>2.622209e+01</td>\n",
       "      <td>-159.71490</td>\n",
       "      <td>-1.185981e+02</td>\n",
       "      <td>-9.781720e+01</td>\n",
       "      <td>-7.691932e+01</td>\n",
       "      <td>-7.099595e+01</td>\n",
       "    </tr>\n",
       "    <tr>\n",
       "      <th>price</th>\n",
       "      <td>226030.0</td>\n",
       "      <td>2.197165e+02</td>\n",
       "      <td>5.703536e+02</td>\n",
       "      <td>0.00000</td>\n",
       "      <td>7.500000e+01</td>\n",
       "      <td>1.210000e+02</td>\n",
       "      <td>2.010000e+02</td>\n",
       "      <td>2.499900e+04</td>\n",
       "    </tr>\n",
       "    <tr>\n",
       "      <th>minimum_nights</th>\n",
       "      <td>226030.0</td>\n",
       "      <td>4.525490e+02</td>\n",
       "      <td>2.103376e+05</td>\n",
       "      <td>1.00000</td>\n",
       "      <td>1.000000e+00</td>\n",
       "      <td>2.000000e+00</td>\n",
       "      <td>7.000000e+00</td>\n",
       "      <td>1.000000e+08</td>\n",
       "    </tr>\n",
       "    <tr>\n",
       "      <th>number_of_reviews</th>\n",
       "      <td>226030.0</td>\n",
       "      <td>3.450653e+01</td>\n",
       "      <td>6.360291e+01</td>\n",
       "      <td>0.00000</td>\n",
       "      <td>1.000000e+00</td>\n",
       "      <td>8.000000e+00</td>\n",
       "      <td>3.900000e+01</td>\n",
       "      <td>9.660000e+02</td>\n",
       "    </tr>\n",
       "    <tr>\n",
       "      <th>reviews_per_month</th>\n",
       "      <td>177428.0</td>\n",
       "      <td>1.431450e+00</td>\n",
       "      <td>1.683210e+00</td>\n",
       "      <td>0.01000</td>\n",
       "      <td>2.300000e-01</td>\n",
       "      <td>8.100000e-01</td>\n",
       "      <td>2.060000e+00</td>\n",
       "      <td>4.406000e+01</td>\n",
       "    </tr>\n",
       "    <tr>\n",
       "      <th>calculated_host_listings_count</th>\n",
       "      <td>226030.0</td>\n",
       "      <td>1.669856e+01</td>\n",
       "      <td>5.106897e+01</td>\n",
       "      <td>1.00000</td>\n",
       "      <td>1.000000e+00</td>\n",
       "      <td>2.000000e+00</td>\n",
       "      <td>6.000000e+00</td>\n",
       "      <td>5.930000e+02</td>\n",
       "    </tr>\n",
       "    <tr>\n",
       "      <th>availability_365</th>\n",
       "      <td>226030.0</td>\n",
       "      <td>1.593149e+02</td>\n",
       "      <td>1.401796e+02</td>\n",
       "      <td>0.00000</td>\n",
       "      <td>0.000000e+00</td>\n",
       "      <td>1.400000e+02</td>\n",
       "      <td>3.110000e+02</td>\n",
       "      <td>3.650000e+02</td>\n",
       "    </tr>\n",
       "  </tbody>\n",
       "</table>\n",
       "</div>"
      ],
      "text/plain": [
       "                                   count          mean           std  \\\n",
       "id                              226030.0  2.547176e+07  1.317814e+07   \n",
       "host_id                         226030.0  9.352385e+07  9.827422e+07   \n",
       "latitude                        226030.0  3.566283e+01  6.849855e+00   \n",
       "longitude                       226030.0 -1.032207e+02  2.622209e+01   \n",
       "price                           226030.0  2.197165e+02  5.703536e+02   \n",
       "minimum_nights                  226030.0  4.525490e+02  2.103376e+05   \n",
       "number_of_reviews               226030.0  3.450653e+01  6.360291e+01   \n",
       "reviews_per_month               177428.0  1.431450e+00  1.683210e+00   \n",
       "calculated_host_listings_count  226030.0  1.669856e+01  5.106897e+01   \n",
       "availability_365                226030.0  1.593149e+02  1.401796e+02   \n",
       "\n",
       "                                      min           25%           50%  \\\n",
       "id                              109.00000  1.515890e+07  2.590916e+07   \n",
       "host_id                          23.00000  1.399275e+07  5.138266e+07   \n",
       "latitude                         18.92099  3.276178e+01  3.726112e+01   \n",
       "longitude                      -159.71490 -1.185981e+02 -9.781720e+01   \n",
       "price                             0.00000  7.500000e+01  1.210000e+02   \n",
       "minimum_nights                    1.00000  1.000000e+00  2.000000e+00   \n",
       "number_of_reviews                 0.00000  1.000000e+00  8.000000e+00   \n",
       "reviews_per_month                 0.01000  2.300000e-01  8.100000e-01   \n",
       "calculated_host_listings_count    1.00000  1.000000e+00  2.000000e+00   \n",
       "availability_365                  0.00000  0.000000e+00  1.400000e+02   \n",
       "\n",
       "                                         75%           max  \n",
       "id                              3.772624e+07  4.556085e+07  \n",
       "host_id                         1.497179e+08  3.679176e+08  \n",
       "latitude                        4.072404e+01  4.773462e+01  \n",
       "longitude                      -7.691932e+01 -7.099595e+01  \n",
       "price                           2.010000e+02  2.499900e+04  \n",
       "minimum_nights                  7.000000e+00  1.000000e+08  \n",
       "number_of_reviews               3.900000e+01  9.660000e+02  \n",
       "reviews_per_month               2.060000e+00  4.406000e+01  \n",
       "calculated_host_listings_count  6.000000e+00  5.930000e+02  \n",
       "availability_365                3.110000e+02  3.650000e+02  "
      ]
     },
     "execution_count": 116,
     "metadata": {},
     "output_type": "execute_result"
    }
   ],
   "source": [
    "df.describe().T.head(10)"
   ]
  },
  {
   "cell_type": "markdown",
   "metadata": {},
   "source": [
    "## Exploratory Data Analysis (EDA)\n",
    "\n",
    "First, I will focus on exploring missing values. I also will look at which features have the greatest impact on price. I also want to evaluate the relationship between variables. After this analysis is complete I will move on to predictive analysis.\n",
    "\n",
    "Predicting price is a regression problem, therefore I be focusing on the following:\n",
    "\n",
    "- <b>Variable Distributions: </b> We want to make sure our continuos variables are bell shaped for the purposes of having appropiate data to feed to our regression model.\n",
    "\n",
    "- <b> Finding and Dealing with Missing Data: </b> We need to analyze the missing values in each one of our features and deal with them appropiately.\n",
    "\n",
    "- <b>Linearity of Continuos Variables: </b> If our features have have linear relationships with price, we do not need to transform our data. However, if there isn't a linear relationship, then we must either transform the data or consider non-linear regression models.\n",
    "\n",
    "- <b>Strength of Association: </b> We need to evaluate how strong is the relationship between a variable and our target, price. This would help us determine wether or not we should keep a variable.\n",
    "\n",
    "- <b>ANOVA F-test of categorical variables against sale price: </b> Through ANOVA, we will  look at an outcome after using each one of the categories in a categorical variable. This will help us determine if a categorical variable is significant or not."
   ]
  },
  {
   "cell_type": "markdown",
   "metadata": {},
   "source": [
    "## Distribution of Target Variable: Price\n",
    "\n",
    "First, I will plot the target variable along with a couple of transformations if necessary. We'll do this because:\n",
    "\n",
    "1. We want to understand the distribution of our data and we can roughly determine that visually.\n",
    "\n",
    "2. Transforming the distributions of the variables is common practice in case the data is not bell shaped."
   ]
  },
  {
   "cell_type": "code",
   "execution_count": 117,
   "metadata": {},
   "outputs": [
    {
     "data": {
      "text/plain": [
       "<matplotlib.legend.Legend at 0x1a2b087e10>"
      ]
     },
     "execution_count": 117,
     "metadata": {},
     "output_type": "execute_result"
    },
    {
     "data": {
      "image/png": "[encoded data removed]",
      "text/plain": [
       "<Figure size 432x288 with 1 Axes>"
      ]
     },
     "metadata": {
      "needs_background": "light"
     },
     "output_type": "display_data"
    }
   ],
   "source": [
    "sigma = df.price.std()\n",
    "mu = df.price.mean()\n",
    "med = df.price.median()\n",
    "mode = df.price.mode().to_numpy()\n",
    "\n",
    "plt.title(f'Untransformed Data, Skew: {stats.skew(df.price):.3f}')\n",
    "sns.distplot(df.price)\n",
    "plt.axvline(mode, linestyle='--', color='green', label='mode')\n",
    "plt.axvline(med, linestyle='--', color='blue', label='median')\n",
    "plt.axvline(mu, linestyle='--', color='red', label='mean')\n",
    "plt.legend()"
   ]
  },
  {
   "cell_type": "markdown",
   "metadata": {},
   "source": [
    "It is very clear our response variable is right skewed, so we must transform it, We'll try log and Yeo-Johnson transformations and see which one looks better. We'll keep this in mind for when it is time to make predictions"
   ]
  },
  {
   "cell_type": "code",
   "execution_count": 7,
   "metadata": {},
   "outputs": [
    {
     "data": {
      "text/plain": [
       "<matplotlib.axes._subplots.AxesSubplot at 0x1a1e3b12d0>"
      ]
     },
     "execution_count": 7,
     "metadata": {},
     "output_type": "execute_result"
    },
    {
     "data": {
      "image/png": "[encoded data removed]",
      "text/plain": [
       "<Figure size 432x288 with 1 Axes>"
      ]
     },
     "metadata": {
      "needs_background": "light"
     },
     "output_type": "display_data"
    }
   ],
   "source": [
    "# Log Transform\n",
    "log_data = np.log1p(df.price)\n",
    "plt.title(f'Log Transform, Skew: {stats.skew(log_data):.3f}')\n",
    "sns.distplot(np.log1p(df.price), kde=True)"
   ]
  },
  {
   "cell_type": "code",
   "execution_count": 8,
   "metadata": {},
   "outputs": [
    {
     "data": {
      "text/plain": [
       "<matplotlib.axes._subplots.AxesSubplot at 0x109854a50>"
      ]
     },
     "execution_count": 8,
     "metadata": {},
     "output_type": "execute_result"
    },
    {
     "data": {
      "image/png": "[encoded data removed]",
      "text/plain": [
       "<Figure size 432x288 with 1 Axes>"
      ]
     },
     "metadata": {
      "needs_background": "light"
     },
     "output_type": "display_data"
    }
   ],
   "source": [
    "#Yeo-Johnson\n",
    "pt = pre.PowerTransformer()\n",
    "ptd = pt.fit_transform(df.price.to_numpy().reshape(-1,1))\n",
    "plt.title(f'Yeo Johnson, Skew: {stats.skew(ptd.squeeze()):.3f}')\n",
    "sns.distplot(ptd, kde=True)"
   ]
  },
  {
   "cell_type": "markdown",
   "metadata": {},
   "source": [
    "These transformations alter the meaning of the data (notice the lack of the ‘Price’ label on the horizontal axis). The main purpose of transforming the target variable is in hopes of assisting the training of a machine learning algorithm.\n",
    "\n",
    "The Yeo-Johnson transformation looks better than the log, we'll use that one later on."
   ]
  },
  {
   "cell_type": "markdown",
   "metadata": {},
   "source": [
    "## Removing Nulls and unnecesary columns\n"
   ]
  },
  {
   "cell_type": "code",
   "execution_count": 118,
   "metadata": {},
   "outputs": [],
   "source": [
    "df['neighbourhood_group'].fillna('Others',inplace=True)\n",
    "df.drop(['name','host_name'],axis=1,inplace=True)\n",
    "df['last_review'] = pd.to_datetime(df['last_review'],infer_datetime_format=True)\n",
    "df['reviews_per_month'].fillna(df['reviews_per_month'].mean(),inplace=True)\n",
    "df[\"last_review\"] = df[\"last_review\"].replace(np.nan, df[\"last_review\"].mode().iloc[0])\n",
    "df.drop(['id','host_id'],axis=1,inplace=True)"
   ]
  },
  {
   "cell_type": "code",
   "execution_count": 119,
   "metadata": {},
   "outputs": [
    {
     "data": {
      "text/plain": [
       "neighbourhood_group               0\n",
       "neighbourhood                     0\n",
       "latitude                          0\n",
       "longitude                         0\n",
       "room_type                         0\n",
       "price                             0\n",
       "minimum_nights                    0\n",
       "number_of_reviews                 0\n",
       "last_review                       0\n",
       "reviews_per_month                 0\n",
       "calculated_host_listings_count    0\n",
       "availability_365                  0\n",
       "city                              0\n",
       "dtype: int64"
      ]
     },
     "execution_count": 119,
     "metadata": {},
     "output_type": "execute_result"
    }
   ],
   "source": [
    "df.isnull().sum()"
   ]
  },
  {
   "cell_type": "markdown",
   "metadata": {},
   "source": [
    "Let's see how many cities we have:"
   ]
  },
  {
   "cell_type": "code",
   "execution_count": 13,
   "metadata": {},
   "outputs": [
    {
     "data": {
      "text/plain": [
       "'There are 28 in the dataset'"
      ]
     },
     "metadata": {},
     "output_type": "display_data"
    },
    {
     "data": {
      "text/plain": [
       "array(['Asheville', 'Austin', 'Boston', 'Broward County', 'Cambridge',\n",
       "       'Chicago', 'Clark County', 'Columbus', 'Denver', 'Hawaii',\n",
       "       'Jersey City', 'Los Angeles', 'Nashville', 'New Orleans',\n",
       "       'New York City', 'Oakland', 'Pacific Grove', 'Portland',\n",
       "       'Rhode Island', 'Salem', 'San Clara Country', 'San Diego',\n",
       "       'San Francisco', 'San Mateo County', 'Santa Cruz County',\n",
       "       'Seattle', 'Twin Cities MSA', 'Washington D.C.'], dtype=object)"
      ]
     },
     "metadata": {},
     "output_type": "display_data"
    }
   ],
   "source": [
    "cities = df.city.unique()\n",
    "display(f'There are {len(cities)} in the dataset')\n",
    "\n",
    "display(cities)"
   ]
  },
  {
   "cell_type": "code",
   "execution_count": 18,
   "metadata": {},
   "outputs": [
    {
     "data": {
      "image/png": "[encoded data removed]",
      "text/plain": [
       "<Figure size 432x288 with 1 Axes>"
      ]
     },
     "metadata": {
      "needs_background": "light"
     },
     "output_type": "display_data"
    }
   ],
   "source": [
    "viz_missing(df)"
   ]
  },
  {
   "cell_type": "markdown",
   "metadata": {},
   "source": [
    "# Label encoding categorical columns"
   ]
  },
  {
   "cell_type": "code",
   "execution_count": 121,
   "metadata": {},
   "outputs": [],
   "source": [
    "from sklearn.preprocessing import LabelEncoder\n",
    "label_encoder = LabelEncoder()\n",
    "df['neighbourhood_group'] = label_encoder.fit_transform(df['neighbourhood_group'])\n",
    "df['neighbourhood'] = label_encoder.fit_transform(df['neighbourhood'])\n",
    "df['room_type'] = label_encoder.fit_transform(df['room_type'])\n",
    "df['city'] = label_encoder.fit_transform(df['city'])"
   ]
  },
  {
   "cell_type": "code",
   "execution_count": 122,
   "metadata": {},
   "outputs": [
    {
     "data": {
      "text/plain": [
       "Index(['neighbourhood_group', 'neighbourhood', 'latitude', 'longitude',\n",
       "       'room_type', 'price', 'minimum_nights', 'number_of_reviews',\n",
       "       'last_review', 'reviews_per_month', 'calculated_host_listings_count',\n",
       "       'availability_365', 'city'],\n",
       "      dtype='object')"
      ]
     },
     "execution_count": 122,
     "metadata": {},
     "output_type": "execute_result"
    }
   ],
   "source": [
    "df.columns"
   ]
  },
  {
   "cell_type": "markdown",
   "metadata": {},
   "source": [
    "## Change date values to ordinal"
   ]
  },
  {
   "cell_type": "code",
   "execution_count": 123,
   "metadata": {},
   "outputs": [],
   "source": [
    "import datetime \n",
    "df['last_review'] = df['last_review'].map(datetime.datetime.toordinal)"
   ]
  },
  {
   "cell_type": "markdown",
   "metadata": {},
   "source": [
    "## Remove outliers"
   ]
  },
  {
   "cell_type": "code",
   "execution_count": 124,
   "metadata": {},
   "outputs": [],
   "source": [
    "from scipy import stats\n",
    "z_scores = stats.zscore(df)\n",
    "abs_z_scores = np.abs(z_scores)\n",
    "filtered_entries = (abs_z_scores < 3).all(axis=1)\n",
    "new_df = df[filtered_entries]"
   ]
  },
  {
   "cell_type": "markdown",
   "metadata": {},
   "source": [
    "## Scaling Data"
   ]
  },
  {
   "cell_type": "code",
   "execution_count": 125,
   "metadata": {},
   "outputs": [],
   "source": [
    "from sklearn.preprocessing import StandardScaler\n",
    "scaler = StandardScaler()\n",
    "#scaler.fit(new_df)\n",
    "scaled_features = scaler.fit_transform(new_df)\n",
    "scaled_features_df = pd.DataFrame(scaled_features, index=new_df.index, columns=new_df.columns)"
   ]
  },
  {
   "cell_type": "code",
   "execution_count": 126,
   "metadata": {},
   "outputs": [
    {
     "data": {
      "text/html": [
       "<div>\n",
       "<style scoped>\n",
       "    .dataframe tbody tr th:only-of-type {\n",
       "        vertical-align: middle;\n",
       "    }\n",
       "\n",
       "    .dataframe tbody tr th {\n",
       "        vertical-align: top;\n",
       "    }\n",
       "\n",
       "    .dataframe thead th {\n",
       "        text-align: right;\n",
       "    }\n",
       "</style>\n",
       "<table border=\"1\" class=\"dataframe\">\n",
       "  <thead>\n",
       "    <tr style=\"text-align: right;\">\n",
       "      <th></th>\n",
       "      <th>neighbourhood_group</th>\n",
       "      <th>neighbourhood</th>\n",
       "      <th>latitude</th>\n",
       "      <th>longitude</th>\n",
       "      <th>room_type</th>\n",
       "      <th>price</th>\n",
       "      <th>minimum_nights</th>\n",
       "      <th>number_of_reviews</th>\n",
       "      <th>last_review</th>\n",
       "      <th>reviews_per_month</th>\n",
       "      <th>calculated_host_listings_count</th>\n",
       "      <th>availability_365</th>\n",
       "      <th>city</th>\n",
       "    </tr>\n",
       "  </thead>\n",
       "  <tbody>\n",
       "    <tr>\n",
       "      <th>0</th>\n",
       "      <td>0.621334</td>\n",
       "      <td>-1.767512</td>\n",
       "      <td>-0.004938</td>\n",
       "      <td>0.775638</td>\n",
       "      <td>1.381058</td>\n",
       "      <td>-0.599407</td>\n",
       "      <td>-0.362783</td>\n",
       "      <td>2.555047</td>\n",
       "      <td>0.143892</td>\n",
       "      <td>-0.148009</td>\n",
       "      <td>-0.395247</td>\n",
       "      <td>-1.143297</td>\n",
       "      <td>-1.88295</td>\n",
       "    </tr>\n",
       "    <tr>\n",
       "      <th>1</th>\n",
       "      <td>0.621334</td>\n",
       "      <td>-1.772330</td>\n",
       "      <td>-0.012851</td>\n",
       "      <td>0.778424</td>\n",
       "      <td>-0.686353</td>\n",
       "      <td>1.386301</td>\n",
       "      <td>-0.362783</td>\n",
       "      <td>1.996818</td>\n",
       "      <td>0.701810</td>\n",
       "      <td>-0.245114</td>\n",
       "      <td>0.022237</td>\n",
       "      <td>0.921239</td>\n",
       "      <td>-1.88295</td>\n",
       "    </tr>\n",
       "    <tr>\n",
       "      <th>2</th>\n",
       "      <td>0.621334</td>\n",
       "      <td>-1.772330</td>\n",
       "      <td>-0.011537</td>\n",
       "      <td>0.778415</td>\n",
       "      <td>-0.686353</td>\n",
       "      <td>-0.526759</td>\n",
       "      <td>0.812551</td>\n",
       "      <td>1.415331</td>\n",
       "      <td>-0.158313</td>\n",
       "      <td>-0.439324</td>\n",
       "      <td>-0.353498</td>\n",
       "      <td>0.992924</td>\n",
       "      <td>-1.88295</td>\n",
       "    </tr>\n",
       "    <tr>\n",
       "      <th>5</th>\n",
       "      <td>0.621334</td>\n",
       "      <td>-1.767512</td>\n",
       "      <td>-0.009789</td>\n",
       "      <td>0.778525</td>\n",
       "      <td>-0.686353</td>\n",
       "      <td>-0.241010</td>\n",
       "      <td>-0.119610</td>\n",
       "      <td>0.601248</td>\n",
       "      <td>0.016036</td>\n",
       "      <td>-0.721810</td>\n",
       "      <td>-0.395247</td>\n",
       "      <td>0.964250</td>\n",
       "      <td>-1.88295</td>\n",
       "    </tr>\n",
       "    <tr>\n",
       "      <th>6</th>\n",
       "      <td>0.621334</td>\n",
       "      <td>-1.762694</td>\n",
       "      <td>-0.014965</td>\n",
       "      <td>0.776821</td>\n",
       "      <td>1.381058</td>\n",
       "      <td>-0.657525</td>\n",
       "      <td>-0.362783</td>\n",
       "      <td>2.531787</td>\n",
       "      <td>-0.158313</td>\n",
       "      <td>0.037373</td>\n",
       "      <td>-0.395247</td>\n",
       "      <td>-1.143297</td>\n",
       "      <td>-1.88295</td>\n",
       "    </tr>\n",
       "  </tbody>\n",
       "</table>\n",
       "</div>"
      ],
      "text/plain": [
       "   neighbourhood_group  neighbourhood  latitude  longitude  room_type  \\\n",
       "0             0.621334      -1.767512 -0.004938   0.775638   1.381058   \n",
       "1             0.621334      -1.772330 -0.012851   0.778424  -0.686353   \n",
       "2             0.621334      -1.772330 -0.011537   0.778415  -0.686353   \n",
       "5             0.621334      -1.767512 -0.009789   0.778525  -0.686353   \n",
       "6             0.621334      -1.762694 -0.014965   0.776821   1.381058   \n",
       "\n",
       "      price  minimum_nights  number_of_reviews  last_review  \\\n",
       "0 -0.599407       -0.362783           2.555047     0.143892   \n",
       "1  1.386301       -0.362783           1.996818     0.701810   \n",
       "2 -0.526759        0.812551           1.415331    -0.158313   \n",
       "5 -0.241010       -0.119610           0.601248     0.016036   \n",
       "6 -0.657525       -0.362783           2.531787    -0.158313   \n",
       "\n",
       "   reviews_per_month  calculated_host_listings_count  availability_365  \\\n",
       "0          -0.148009                       -0.395247         -1.143297   \n",
       "1          -0.245114                        0.022237          0.921239   \n",
       "2          -0.439324                       -0.353498          0.992924   \n",
       "5          -0.721810                       -0.395247          0.964250   \n",
       "6           0.037373                       -0.395247         -1.143297   \n",
       "\n",
       "      city  \n",
       "0 -1.88295  \n",
       "1 -1.88295  \n",
       "2 -1.88295  \n",
       "5 -1.88295  \n",
       "6 -1.88295  "
      ]
     },
     "execution_count": 126,
     "metadata": {},
     "output_type": "execute_result"
    }
   ],
   "source": [
    "scaled_features_df.head()"
   ]
  },
  {
   "cell_type": "markdown",
   "metadata": {},
   "source": [
    "## Getting Ready to Train a Model"
   ]
  },
  {
   "cell_type": "code",
   "execution_count": 127,
   "metadata": {},
   "outputs": [],
   "source": [
    "from sklearn.model_selection import train_test_split\n",
    "X = scaled_features_df.drop('price',axis=1)\n",
    "y = scaled_features_df['price']\n",
    "X_train, X_test, y_train, y_test = train_test_split(X,y , test_size = 0.2, random_state=42)"
   ]
  },
  {
   "cell_type": "code",
   "execution_count": 128,
   "metadata": {},
   "outputs": [
    {
     "data": {
      "text/plain": [
       "<matplotlib.axes._subplots.AxesSubplot at 0x1a3ece1c50>"
      ]
     },
     "execution_count": 128,
     "metadata": {},
     "output_type": "execute_result"
    },
    {
     "data": {
      "image/png": "[encoded data removed]",
      "text/plain": [
       "<Figure size 1080x720 with 2 Axes>"
      ]
     },
     "metadata": {
      "needs_background": "light"
     },
     "output_type": "display_data"
    }
   ],
   "source": [
    "plt.figure(figsize=(15,10))\n",
    "sns.heatmap(scaled_features_df.corr(),annot=True)"
   ]
  },
  {
   "cell_type": "markdown",
   "metadata": {},
   "source": [
    "## Check multicollinearity"
   ]
  },
  {
   "cell_type": "code",
   "execution_count": 129,
   "metadata": {},
   "outputs": [
    {
     "name": "stdout",
     "output_type": "stream",
     "text": [
      "                           feature       VIF\n",
      "0              neighbourhood_group  1.027844\n",
      "1                    neighbourhood  1.054252\n",
      "2                         latitude  2.312432\n",
      "3                        longitude  1.843222\n",
      "4                        room_type  1.056579\n",
      "5                   minimum_nights  1.034192\n",
      "6                number_of_reviews  1.792139\n",
      "7                      last_review  1.342547\n",
      "8                reviews_per_month  2.114312\n",
      "9   calculated_host_listings_count  1.098035\n",
      "10                availability_365  1.108484\n",
      "11                            city  1.530459\n"
     ]
    }
   ],
   "source": [
    "from statsmodels.stats.outliers_influence import variance_inflation_factor\n",
    "# VIF dataframe \n",
    "vif_data = pd.DataFrame() \n",
    "vif_data[\"feature\"] = X.columns \n",
    "\n",
    "# calculating VIF for each feature \n",
    "vif_data[\"VIF\"] = [variance_inflation_factor(X_train.values, i) \n",
    "                          for i in range(len(X_train.columns))] \n",
    "  \n",
    "print(vif_data)"
   ]
  },
  {
   "cell_type": "markdown",
   "metadata": {},
   "source": [
    "# Linear Regression"
   ]
  },
  {
   "cell_type": "code",
   "execution_count": 130,
   "metadata": {},
   "outputs": [
    {
     "data": {
      "text/plain": [
       "LinearRegression(copy_X=True, fit_intercept=True, n_jobs=None, normalize=False)"
      ]
     },
     "execution_count": 130,
     "metadata": {},
     "output_type": "execute_result"
    }
   ],
   "source": [
    "from sklearn.linear_model import LinearRegression\n",
    "regressor = LinearRegression()\n",
    "regressor.fit(X_train, y_train)"
   ]
  },
  {
   "cell_type": "code",
   "execution_count": 131,
   "metadata": {},
   "outputs": [],
   "source": [
    "y_pred = regressor.predict(X_test)"
   ]
  },
  {
   "cell_type": "code",
   "execution_count": 132,
   "metadata": {},
   "outputs": [
    {
     "name": "stdout",
     "output_type": "stream",
     "text": [
      "MSE 0.8719020312856749\n",
      "RMSE 0.9337569444377241\n",
      "R2 Score 0.12616838160768917\n",
      "Adj R^2 value: 0.12591044297042475\n"
     ]
    }
   ],
   "source": [
    "from sklearn.metrics import mean_squared_error,r2_score\n",
    "import math\n",
    "print('MSE',mean_squared_error(y_test, y_pred))\n",
    "print('RMSE',math.sqrt(mean_squared_error(y_test, y_pred)))\n",
    "print('R2 Score',r2_score(y_test, y_pred))\n",
    "print('Adj R^2 value:',1 - (1-regressor.score(X_test, y_test))*(len(y_test)-1)/(len(y_test)-X_test.shape[1]-1))"
   ]
  },
  {
   "cell_type": "markdown",
   "metadata": {},
   "source": [
    "# XGBoost"
   ]
  },
  {
   "cell_type": "code",
   "execution_count": 133,
   "metadata": {},
   "outputs": [],
   "source": [
    "base_booster = xgb.XGBRegressor()\n",
    "\n",
    "# We want to shuffle the data for the cross_val_score \n",
    "kf = model_selection.KFold(5, shuffle=True, random_state=1)"
   ]
  },
  {
   "cell_type": "code",
   "execution_count": 137,
   "metadata": {},
   "outputs": [],
   "source": [
    "base_booster.fit(X_train, y_train)\n",
    "\n",
    "y_pred_xg = base_booster.predict(X_test)"
   ]
  },
  {
   "cell_type": "code",
   "execution_count": 139,
   "metadata": {},
   "outputs": [
    {
     "name": "stdout",
     "output_type": "stream",
     "text": [
      "MSE 0.6066817843460006\n",
      "RMSE 0.7788978009636441\n",
      "R2 Score 0.3919755816115271\n",
      "Adj R^2 value: 0.39179610425387423\n"
     ]
    }
   ],
   "source": [
    "print('MSE',mean_squared_error(y_test, y_pred_xg))\n",
    "print('RMSE',math.sqrt(mean_squared_error(y_test, y_pred_xg)))\n",
    "print('R2 Score',r2_score(y_test, y_pred_xg))\n",
    "print('Adj R^2 value:',1 - (1-base_booster.score(X_test, y_test))*(len(y_test)-1)/(len(y_test)-X_test.shape[1]-1))"
   ]
  },
  {
   "cell_type": "code",
   "execution_count": null,
   "metadata": {},
   "outputs": [],
   "source": []
  }
 ],
 "metadata": {
  "kernelspec": {
   "display_name": "Python 3",
   "language": "python",
   "name": "python3"
  },
  "language_info": {
   "codemirror_mode": {
    "name": "ipython",
    "version": 3
   },
   "file_extension": ".py",
   "mimetype": "text/x-python",
   "name": "python",
   "nbconvert_exporter": "python",
   "pygments_lexer": "ipython3",
   "version": "3.7.7"
  }
 },
 "nbformat": 4,
 "nbformat_minor": 4
}
